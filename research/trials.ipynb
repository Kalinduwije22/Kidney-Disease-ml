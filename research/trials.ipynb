{
 "cells": [
  {
   "cell_type": "code",
   "execution_count": 1,
   "id": "3aaee707",
   "metadata": {},
   "outputs": [],
   "source": [
    "#config box\n",
    "d={\"key\":\"val\",\"key1\":\"val1\"}"
   ]
  },
  {
   "cell_type": "code",
   "execution_count": 2,
   "id": "a98eeaff",
   "metadata": {},
   "outputs": [
    {
     "data": {
      "text/plain": [
       "'val'"
      ]
     },
     "execution_count": 2,
     "metadata": {},
     "output_type": "execute_result"
    }
   ],
   "source": [
    "d['key']"
   ]
  },
  {
   "cell_type": "code",
   "execution_count": 3,
   "id": "5892a66b",
   "metadata": {},
   "outputs": [],
   "source": [
    "from box import Box\n"
   ]
  },
  {
   "cell_type": "code",
   "execution_count": 4,
   "id": "0b5db7bb",
   "metadata": {},
   "outputs": [],
   "source": [
    "d2=Box(d)"
   ]
  },
  {
   "cell_type": "code",
   "execution_count": 5,
   "id": "c83ae8e3",
   "metadata": {},
   "outputs": [
    {
     "data": {
      "text/plain": [
       "'val'"
      ]
     },
     "execution_count": 5,
     "metadata": {},
     "output_type": "execute_result"
    }
   ],
   "source": [
    "d2.key"
   ]
  },
  {
   "cell_type": "code",
   "execution_count": 6,
   "id": "0d7d1257",
   "metadata": {},
   "outputs": [
    {
     "data": {
      "text/plain": [
       "box.box.Box"
      ]
     },
     "execution_count": 6,
     "metadata": {},
     "output_type": "execute_result"
    }
   ],
   "source": [
    "type(d2)"
   ]
  },
  {
   "cell_type": "code",
   "execution_count": 7,
   "id": "52466d96",
   "metadata": {},
   "outputs": [],
   "source": [
    "#ensure annotations are correct\n",
    "def get_predict(x:int, y:int) -> int:\n",
    "    return x*y    "
   ]
  },
  {
   "cell_type": "code",
   "execution_count": 8,
   "id": "d49c5ace",
   "metadata": {},
   "outputs": [
    {
     "data": {
      "text/plain": [
       "6"
      ]
     },
     "execution_count": 8,
     "metadata": {},
     "output_type": "execute_result"
    }
   ],
   "source": [
    "get_predict(2,3)"
   ]
  },
  {
   "cell_type": "code",
   "execution_count": 9,
   "id": "d79ea972",
   "metadata": {},
   "outputs": [],
   "source": [
    "from ensure import ensure_annotations"
   ]
  },
  {
   "cell_type": "code",
   "execution_count": 10,
   "id": "3fbb61d4",
   "metadata": {},
   "outputs": [],
   "source": [
    "def get_predict(x:int, y:int) -> int:\n",
    "    return x*y"
   ]
  },
  {
   "cell_type": "code",
   "execution_count": 11,
   "id": "03ea8ec3",
   "metadata": {},
   "outputs": [
    {
     "data": {
      "text/plain": [
       "'33'"
      ]
     },
     "execution_count": 11,
     "metadata": {},
     "output_type": "execute_result"
    }
   ],
   "source": [
    "get_predict(2,\"3\")"
   ]
  }
 ],
 "metadata": {
  "kernelspec": {
   "display_name": "kidney_tf",
   "language": "python",
   "name": "python3"
  },
  "language_info": {
   "codemirror_mode": {
    "name": "ipython",
    "version": 3
   },
   "file_extension": ".py",
   "mimetype": "text/x-python",
   "name": "python",
   "nbconvert_exporter": "python",
   "pygments_lexer": "ipython3",
   "version": "3.10.18"
  }
 },
 "nbformat": 4,
 "nbformat_minor": 5
}
